{
 "cells": [
  {
   "cell_type": "code",
   "execution_count": 7,
   "metadata": {},
   "outputs": [],
   "source": [
    "import glob\n",
    "import networkx as nx \n",
    "import pandas as pd \n",
    "import os \n",
    "import numpy as np\n",
    "import matplotlib.pyplot as plt\n",
    "import torch, torch_geometric\n",
    "from torch_geometric.data import Dataset, DenseDataLoader, Data\n",
    "import torch.nn.functional as F\n",
    "from torch_geometric.nn import DenseSAGEConv, dense_diff_pool\n",
    "import os.path as osp\n",
    "from math import ceil\n",
    "from Variables import *\n",
    "from sklearn.metrics import confusion_matrix\n",
    "\n",
    "import io\n",
    "import string\n",
    "import seaborn as sns\n",
    "from flask import Flask, jsonify, request, render_template"
   ]
  },
  {
   "cell_type": "code",
   "execution_count": 8,
   "metadata": {},
   "outputs": [],
   "source": [
    "def Variables(edge_file):\n",
    "\n",
    "    node250_df = pd.read_csv(r\"C:\\Users\\Vishnu\\Documents\\ijhdfbgjws\\node\\freesurfer_thickness_fsaverage_smoothing10_size250_edgeweight_manhattan_graynet-nodes1.csv\")\n",
    "    node250 = node250_df.iloc[:, 2:]\n",
    "    dat250 = node250_df.set_index('~id').to_dict('index').items()\n",
    "\n",
    "    x250 = glob.glob(edge_file)\n",
    "\n",
    "    y250 = np.zeros(shape=(118, 1))\n",
    "    nf250_array = []\n",
    "\n",
    "    for count in range(118):\n",
    "        nf250_array.append(node250)\n",
    "    \n",
    "    y_df = pd.read_csv(r\"C:\\Users\\Vishnu\\Documents\\y_label.csv\")\n",
    "    y = y_df.to_numpy()\n",
    "\n",
    "    p250 = []\n",
    "    k250 = []\n",
    "\n",
    "    for count in range(len(x250)):\n",
    "        f = pd.read_csv(x250[count], error_bad_lines=False, encoding='latin1')\n",
    "        f.fillna(0.0001)\n",
    "\n",
    "        if len(f) == 674541:\n",
    "            G = nx.from_pandas_edgelist(f, '~from', '~to', edge_attr=True)\n",
    "            G.add_nodes_from(dat250)\n",
    "            p250.append(nx.convert_matrix.to_numpy_array(G, weight = 'd3:double'))\n",
    "            k250.append(x250[count])\n",
    "            \n",
    "    adj = (np.array(p250))\n",
    "    X = (np.array(nf250_array))\n",
    "    edge_index = pd.read_excel( r\"C:\\Users\\Vishnu\\Documents\\COOsparse1.xlsx\", engine='openpyxl')\n",
    "    \n",
    "    \n",
    "    return adj, X, y"
   ]
  },
  {
   "cell_type": "code",
   "execution_count": 9,
   "metadata": {},
   "outputs": [],
   "source": [
    "adj, X, y = Variables(r\"C:\\Users\\Vishnu\\Documents\\Edges\\250_nodal\\*.csv\")\n"
   ]
  },
  {
   "cell_type": "code",
   "execution_count": 10,
   "metadata": {},
   "outputs": [
    {
     "name": "stdout",
     "output_type": "stream",
     "text": [
      "118\n"
     ]
    }
   ],
   "source": [
    "class Alzheimers(torch.utils.data.Dataset):\n",
    "    def __init__(self, X, adj, y):\n",
    "        \n",
    "        self.y = torch.tensor(y, dtype=torch.long)\n",
    "        self.X = torch.tensor(X, dtype=torch.float32)\n",
    "        self.adj = torch.tensor(adj, dtype=torch.float32)\n",
    "#         self.edge = edge.type(torch.LongTensor)\n",
    "        \n",
    "\n",
    "    def __len__(self):\n",
    "        return(len(self.y))\n",
    "\n",
    "    def __num_classes__(self):\n",
    "        return len('ar')\n",
    "\n",
    "    def __getitem__(self, idx):\n",
    "\n",
    "        x = self.X[idx]\n",
    "        adj = self.adj[idx]\n",
    "#         edge_index = self.edge[idx].type(torch.LongTensor)\n",
    "        y = self.y[idx]\n",
    "        num_features = 3 \n",
    "\n",
    "        return torch_geometric.data.Data(x=x, adj=adj, y=y, mask=None)\n",
    "#         return {'x': x, 'adj': adj, 'edge_index': edge_index, 'y':y}\n",
    "    \n",
    "dataset = Alzheimers(X, adj, y)\n",
    "print(len(dataset))"
   ]
  },
  {
   "cell_type": "code",
   "execution_count": 11,
   "metadata": {},
   "outputs": [],
   "source": [
    "num_instances = len(dataset)\n",
    "test_ratio = 0.3\n",
    "test_size = int(num_instances * test_ratio)\n",
    "train_size = num_instances - test_size\n",
    "\n",
    "device = torch.device('cpu')\n",
    "params = {'batch_size': 1,\n",
    "          'shuffle': True,\n",
    "          'num_workers': 0}\n",
    "max_epochs = 3000\n",
    "\n",
    "train_data, test_data = torch.utils.data.random_split(dataset, (train_size, test_size))\n",
    "\n",
    "train_loader = DenseDataLoader(train_data, **params)\n",
    "test_loader = DenseDataLoader(test_data, **params)"
   ]
  },
  {
   "cell_type": "code",
   "execution_count": 12,
   "metadata": {},
   "outputs": [],
   "source": [
    "\n",
    "class GNN(torch.nn.Module):\n",
    "    def __init__(self, in_channels, hidden_channels, out_channels,\n",
    "                 normalize=False, lin=True):\n",
    "        super(GNN, self).__init__()\n",
    "\n",
    "        self.conv1 = DenseSAGEConv(in_channels, hidden_channels, normalize)\n",
    "#         self.bn1 = torch.nn.BatchNorm1d(hidden_channels)\n",
    "        self.conv2 = DenseSAGEConv(hidden_channels, hidden_channels, normalize)\n",
    "#         self.bn2 = torch.nn.BatchNorm1d(hidden_channels)\n",
    "        self.conv3 = DenseSAGEConv(hidden_channels, out_channels, normalize)\n",
    "#         self.bn3 = torch.nn.BatchNorm1d(out_channels)\n",
    "\n",
    "        if lin is True:\n",
    "            self.lin = torch.nn.Linear(2 * hidden_channels + out_channels,\n",
    "                                       out_channels)\n",
    "        else:\n",
    "            self.lin = None\n",
    "\n",
    "\n",
    "    def forward(self, x, adj, mask=None):\n",
    "#         batch_size, num_nodes, in_channels = x.size()\n",
    "\n",
    "        x0 = x\n",
    "        x1 = F.relu(self.conv1(x0, adj, mask))\n",
    "        x2 = F.relu(self.conv2(x1, adj, mask))\n",
    "        x3 = F.relu(self.conv3(x2, adj, mask))\n",
    "\n",
    "        x = torch.cat([x1, x2, x3], dim=-1)\n",
    "\n",
    "        if self.lin is not None:\n",
    "            x = F.relu(self.lin(x))\n",
    "\n",
    "        return x\n",
    "\n",
    "    \n",
    "class Net(torch.nn.Module):\n",
    "    def __init__(self):\n",
    "        super(Net, self).__init__()\n",
    "        \n",
    "        max_nodes = 1162\n",
    "        \n",
    "        num_nodes = ceil(0.25 * max_nodes)\n",
    "        self.gnn1_pool = GNN(3, 64, num_nodes)\n",
    "        self.gnn1_embed = GNN(3, 64, 64, lin=False)\n",
    "        \n",
    "        \n",
    "        num_nodes = ceil(0.25 * num_nodes)\n",
    "        self.gnn2_pool = GNN(3 * 64, 64, num_nodes)\n",
    "        self.gnn2_embed = GNN(3 * 64, 64, 64, lin=False)\n",
    "\n",
    "        \n",
    "        num_nodes = ceil(0.25 * num_nodes)\n",
    "        self.gnn3_pool = GNN(3 * 64, 64, num_nodes)\n",
    "        self.gnn3_embed = GNN(3 * 64, 64, 64, lin=False)\n",
    "\n",
    "        \n",
    "        self.lin1 = torch.nn.Linear(3 * 64, 64)\n",
    "        self.lin2 = torch.nn.Linear(64, 64)\n",
    "        self.lin3 = torch.nn.Linear(64, 6)\n",
    "\n",
    "    def forward(self, x, adj, mask=None):\n",
    "        s = self.gnn1_pool(x, adj, mask=None)\n",
    "        x = self.gnn1_embed(x, adj, mask=None)\n",
    "\n",
    "        x, adj, l1, e1 = dense_diff_pool(x, adj, s, mask=None)\n",
    "\n",
    "        s = self.gnn2_pool(x, adj)\n",
    "        x = self.gnn2_embed(x, adj)\n",
    "\n",
    "        x, adj, l2, e2 = dense_diff_pool(x, adj, s)\n",
    "\n",
    "        s = self.gnn3_pool(x, adj)\n",
    "        x = self.gnn3_embed(x, adj)\n",
    "        \n",
    "        x, adj, l3, e3 = dense_diff_pool(x, adj, s)\n",
    "\n",
    "        x = x.mean(dim=1)\n",
    "        x = F.relu(self.lin1(x))\n",
    "        x = self.lin2(x)\n",
    "        return F.log_softmax(x, dim=-1), l1 + l2 + l3, e1 + e2 + e3\n"
   ]
  },
  {
   "cell_type": "code",
   "execution_count": 13,
   "metadata": {},
   "outputs": [],
   "source": [
    "device='cpu'\n",
    "model = Net().to(device)\n",
    "criterion = torch.nn.BCELoss() \n",
    "optimizer = torch.optim.Adam(model.parameters(), lr=1e-5, weight_decay=0.0001)"
   ]
  },
  {
   "cell_type": "code",
   "execution_count": 14,
   "metadata": {},
   "outputs": [
    {
     "data": {
      "text/plain": [
       "<All keys matched successfully>"
      ]
     },
     "execution_count": 14,
     "metadata": {},
     "output_type": "execute_result"
    }
   ],
   "source": [
    "model.load_state_dict(torch.load('./fix_vishnunet17.pth'))"
   ]
  },
  {
   "cell_type": "code",
   "execution_count": 21,
   "metadata": {},
   "outputs": [],
   "source": [
    "nb_classes = 2\n",
    "predlist=torch.zeros(0,dtype=torch.long)\n",
    "lbllist=torch.zeros(0,dtype=torch.long)\n",
    "\n",
    "\n",
    "with torch.no_grad():\n",
    "    for data in train_loader:\n",
    "        data = data.to(device)\n",
    "        optimizer.zero_grad()\n",
    "        output, _, _ = model(data.x, data.adj)\n",
    "        _, preds = torch.max(output, 1)\n",
    "\n",
    "        # Append batch prediction results\n",
    "        predlist=torch.cat([predlist,preds.view(-1)])\n",
    "        lbllist=torch.cat([lbllist,data.y.view(-1)])"
   ]
  },
  {
   "cell_type": "code",
   "execution_count": 22,
   "metadata": {
    "scrolled": true
   },
   "outputs": [
    {
     "name": "stdout",
     "output_type": "stream",
     "text": [
      "AxesSubplot(0.125,0.125;0.62x0.755)\n"
     ]
    },
    {
     "data": {
      "image/png": "[encoded data removed]",
      "text/plain": [
       "<Figure size 432x288 with 2 Axes>"
      ]
     },
     "metadata": {
      "needs_background": "light"
     },
     "output_type": "display_data"
    }
   ],
   "source": [
    "cm = confusion_matrix(predlist.numpy(), lbllist.numpy())\n",
    "# cm = (100/83)*cm\n",
    "print(sns.heatmap(cm))"
   ]
  },
  {
   "cell_type": "code",
   "execution_count": 24,
   "metadata": {},
   "outputs": [
    {
     "name": "stdout",
     "output_type": "stream",
     "text": [
      "[[22  6]\n",
      " [16 39]]\n"
     ]
    }
   ],
   "source": [
    "print((cm))"
   ]
  },
  {
   "cell_type": "code",
   "execution_count": null,
   "metadata": {},
   "outputs": [],
   "source": []
  }
 ],
 "metadata": {
  "kernelspec": {
   "display_name": "Python 3",
   "language": "python",
   "name": "python3"
  },
  "language_info": {
   "codemirror_mode": {
    "name": "ipython",
    "version": 3
   },
   "file_extension": ".py",
   "mimetype": "text/x-python",
   "name": "python",
   "nbconvert_exporter": "python",
   "pygments_lexer": "ipython3",
   "version": "3.8.5"
  }
 },
 "nbformat": 4,
 "nbformat_minor": 4
}